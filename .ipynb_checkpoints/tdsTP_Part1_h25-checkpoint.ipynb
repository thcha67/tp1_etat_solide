{
 "cells": [
  {
   "cell_type": "markdown",
   "metadata": {},
   "source": [
    "<h1 style=\"text-align:center\">Travail pratique numérique en thermodynamique statistique</h1>\n",
    "<h2 style=\"text-align:center\">PARTIE 1 : Cinétique des gaz parfaits</h2>\n",
    "\n",
    "Veuillez indiquer le nom des membres de votre équipe dans la cellule suivante."
   ]
  },
  {
   "cell_type": "markdown",
   "metadata": {},
   "source": [
    "Simon Gauthier, Laurent Emond, Thomas Charland et Tony Drouin"
   ]
  },
  {
   "cell_type": "markdown",
   "metadata": {
    "nteract": {
     "transient": {
      "deleting": false
     }
    }
   },
   "source": [
    "# Introduction #\n",
    "Ce travail révise d'abord quelques bases générales de mécanique statistique classique avec le script `tds2Danimation_hXX.py` qui simule la théorie cinétique des gaz parfaits en 2D. Cette simulation utilise le concept de sphères dures, mais ici pour le cas des particules d'un gaz afin d'introduire des collisions élastiques entre elles sur leurs trajectoires ballistiques. Notez qu'une sphère est colorée et grossie seulement pour l’effet visuel dans l'animation, la physique de l’algorithme codé considère bien des particules totalement identiques. Les questions sur cette simulation, à répondre directement dans les cellules du carnet _(Notebook)_ ici-même, explorent quelques paramètres de la thermodynamique statistique et introduisent de nouveaux termes utiles à l'étude du mouvement des électrons dans la matière.\n",
    "\n",
    "_N.B._ \n",
    "- _Pour montrer les animations à l'écran, le script `tds2Danimation_hXX.py` importe la librairie `VPython` qu'il faut donc installer. Des liens vers sa documentation et de l'information complémentaire sont donnés dans la médiagraphie à la fin._\n",
    "- _Le code dans ce script est abusivement commenté dans notre contexte pédagogique, mais il serait bien sûr préférable de s’en tenir aux recommandations du <a href=\"https://www.python.org/dev/peps/pep-0008\"> PEP 8 — Style Guide for Python Code</a>._\n",
    "- _Notez finalement que la boucle principale à la fin du script laisse l'utilisateur voir l'animation aussi longtemps que souhaité, assurez-vous donc de savoir comment l'interrompre correctement avant de lancer la simulation ou de la remplacer par une boucle `for`._"
   ]
  },
  {
   "cell_type": "markdown",
   "metadata": {
    "nteract": {
     "transient": {
      "deleting": false
     }
    }
   },
   "source": [
    "# 1<sup>re</sup> partie - Cinétique CLASSIQUE des gaz parfaits #"
   ]
  },
  {
   "cell_type": "markdown",
   "metadata": {
    "nteract": {
     "transient": {
      "deleting": false
     }
    }
   },
   "source": [
    "### Simulation 2D ###"
   ]
  },
  {
   "cell_type": "code",
   "execution_count": 1,
   "metadata": {},
   "outputs": [
    {
     "data": {
      "text/html": [
       "<div id=\"glowscript\" class=\"glowscript\"></div>"
      ],
      "text/plain": [
       "<IPython.core.display.HTML object>"
      ]
     },
     "metadata": {},
     "output_type": "display_data"
    },
    {
     "data": {
      "application/javascript": [
       "if (typeof Jupyter !== \"undefined\") { window.__context = { glowscript_container: $(\"#glowscript\").removeAttr(\"id\")};}else{ element.textContent = ' ';}"
      ],
      "text/plain": [
       "<IPython.core.display.Javascript object>"
      ]
     },
     "metadata": {},
     "output_type": "display_data"
    },
    {
     "data": {
      "text/html": [
       "<div id=\"glowscript\" class=\"glowscript\"></div>"
      ],
      "text/plain": [
       "<IPython.core.display.HTML object>"
      ]
     },
     "metadata": {},
     "output_type": "display_data"
    },
    {
     "data": {
      "application/javascript": [
       "if (typeof Jupyter !== \"undefined\") { window.__context = { glowscript_container: $(\"#glowscript\").removeAttr(\"id\")};}else{ element.textContent = ' ';}"
      ],
      "text/plain": [
       "<IPython.core.display.Javascript object>"
      ]
     },
     "metadata": {},
     "output_type": "display_data"
    }
   ],
   "source": [
    "%run tds2Danimation_h25.py\n",
    "# ou\n",
    "#%run tds3Dsim_h.py #si disponible : script sans la lente animation Vpython qui est en développement à la session h25!\n",
    "# Remplacez \"XX\" par les deux derniers chiffres de l'année de votre session.\n",
    "# N'hésitez pas à exécuter l'animation 2D ou la simulation 3D à l'extérieur du _Notebook_. Cette cellule vise à préciser que les questions qui suivent se basent sur ces scripts et doivent mener aux mêmes répomses autant en 2D qu'en 3D."
   ]
  },
  {
   "cell_type": "markdown",
   "metadata": {},
   "source": [
    "### Questions statistiques ###"
   ]
  },
  {
   "cell_type": "markdown",
   "metadata": {},
   "source": [
    "**I.** _(3 points)_  &mdash; Utilisez la liste finale des vecteurs de quantité de mouvement $\\vec{p}$ de toutes les sphères pour calculer la moyenne de son carré $\\langle p^2\\rangle=\\langle\\vec{p}\\cdot\\vec{p}\\rangle$ en écrivant le code nécessaire dans la cellule qui suit. "
   ]
  },
  {
   "cell_type": "code",
   "execution_count": 2,
   "metadata": {},
   "outputs": [
    {
     "data": {
      "text/html": [
       "<div id=\"glowscript\" class=\"glowscript\"></div>"
      ],
      "text/plain": [
       "<IPython.core.display.HTML object>"
      ]
     },
     "metadata": {},
     "output_type": "display_data"
    },
    {
     "data": {
      "application/javascript": [
       "if (typeof Jupyter !== \"undefined\") { window.__context = { glowscript_container: $(\"#glowscript\").removeAttr(\"id\")};}else{ element.textContent = ' ';}"
      ],
      "text/plain": [
       "<IPython.core.display.Javascript object>"
      ]
     },
     "metadata": {},
     "output_type": "display_data"
    },
    {
     "name": "stdout",
     "output_type": "stream",
     "text": [
      "La quantité de mouvement moyenne des particules est de 5.599999999999999e-47 kg.m/s.\n"
     ]
    }
   ],
   "source": [
    "import numpy as np\n",
    "from tds2Danimation_h25 import p\n",
    "\n",
    "array_p = []\n",
    "\n",
    "for v in p:\n",
    "    array_p.append(np.array([v.x, v.y, v.z]))\n",
    "\n",
    "array_p = np.array(array_p)\n",
    "\n",
    "momentum_all_particles = []\n",
    "\n",
    "for v in array_p:\n",
    "    momentum = v[0]**2 + v[1]**2 + v[2]**2\n",
    "    momentum_all_particles.append(momentum)\n",
    "\n",
    "average_momentum = np.mean(momentum_all_particles)\n",
    "\n",
    "print(f\"La quantité de mouvement moyenne des particules est de {average_momentum} kg.m/s.\")"
   ]
  },
  {
   "cell_type": "markdown",
   "metadata": {},
   "source": [
    "\n",
    "**II.** _(2 points)_  &mdash; La température $T$ (macroscopique) est proportionnelle à l'énergie cinétique moyenne $E_{cin}$ de l'ensemble des particules lorsque ce système est rendu à l'équilibre. Celle-ci peut se calculer classiquement selon son <a href=\"https://fr.wikipedia.org/wiki/%C3%89quipartition_de_l%27%C3%A9nergie\">principe d'équipartition</a>, _i.e._ en répartissant l'énergie également sur chaque degré de liberté ici en translation seulement d'où, au total pour $\\text{DIM}=1,2\\text{ ou } 3$ dimensions d'espace réel,\n",
    "\\begin{equation}\n",
    "E_{cin}=\\frac{\\langle p^2 \\rangle}{2m}=\\text{DIM}\\times\\frac{1}{2}k_BT\n",
    "\\end{equation}\n",
    "avec $k_B$, la constante de Boltzmann et $m$, la masse de chaque particule. Quelle est la température du gaz de sphères dures à la fin de la simulation? Est-ce qu'elle a changé significativement par rapport à sa valeur initiale?"
   ]
  },
  {
   "cell_type": "code",
   "execution_count": 3,
   "metadata": {},
   "outputs": [
    {
     "name": "stdout",
     "output_type": "stream",
     "text": [
      "La température du gaz est de 300.0K à la fin de la simulation.\n"
     ]
    }
   ],
   "source": [
    "#Définition des paramètres selon ceux de la simulation\n",
    "dim = 2\n",
    "k_b = 1.4E-23\n",
    "m = 4E-3/6E23\n",
    "\n",
    "gas_temperature = round(average_momentum / (m*dim*k_b), 2)\n",
    "\n",
    "print(f\"La température du gaz est de {gas_temperature}K à la fin de la simulation.\")"
   ]
  },
  {
   "cell_type": "markdown",
   "metadata": {
    "nteract": {
     "transient": {
      "deleting": false
     }
    }
   },
   "source": [
    "**III.** _(10 points)_ &mdash; Modifiez le code de la simulation pour ajouter une fonction qui suit la trajectoire d'UNE SEULE particule, c'est-à-dire qu'elle doit enregistrer, dans une liste, des valeurs de variables pour cette particule et ce, à chacune de ses collisions avec une autre particule (_i.e._ excluez les collisions avec les parois de la boîte). Les deux variables scalaires à lister sont:\n",
    "- la distance que la particule a parcouru entre chaque collision,\n",
    "- le temps écoulé entre ces collisions.\n",
    "\n",
    "Copiez le code de votre fonction dans la cellule qui suit en y commentant clairement les variables pour ces listes qui devront persister après avoir interrompu l'exécution de la simulation. N'oubliez pas d'inclure votre fichier Python (`.py`) modifié avec la simulation complète lors de la remise."
   ]
  },
  {
   "cell_type": "code",
   "execution_count": 1,
   "metadata": {
    "nteract": {
     "transient": {
      "deleting": false
     }
    },
    "scrolled": true
   },
   "outputs": [],
   "source": [
    "#Intégrée dans la boucle principale, la fonction suivra la progression d'une particule\n",
    "#Lorsqu'une collision a lieu, les données accumulatedTime et accumulatedDistance seront sauvées dans une followParticuleList (variable globale)\n",
    "#Cette variable globale sera celle qui persistera après la simulation complète\n",
    "\n",
    "followParticuleList = []\n",
    "def followParticule(hitlist, accumulatedDistance, accumulatedTime):\n",
    "    particuleNumber = 0 #numéro de la particule que nous suivrons\n",
    "    vitesseParticule = p[particuleNumber]/mass\n",
    "    \n",
    "    accumulatedTime += dt  #Suit le temps depuis la dernière collision\n",
    "    distanceTravelled = mag(vitesseParticule)*dt\n",
    "    accumulatedDistance += distanceTravelled  #Suit la distance parcourue depuis la dernière collision\n",
    "\n",
    "    hit = False\n",
    "    for ij in hitlist:\n",
    "        if ij[0] == particuleNumber or ij[1] == particuleNumber:\n",
    "            hit = True\n",
    "    \n",
    "    if hit:\n",
    "        if accumulatedDistance != 0 and accumulatedTime != 0: #avoids saving repetition of same collision\n",
    "            followParticuleList.append([accumulatedDistance, accumulatedTime])  #la followParticuleList sera sauvegardée pour après la simulation\n",
    "        return 0, 0\n",
    "    else:\n",
    "        return accumulatedDistance, accumulatedTime"
   ]
  },
  {
   "cell_type": "markdown",
   "metadata": {
    "nteract": {
     "transient": {
      "deleting": false
     }
    }
   },
   "source": [
    "**IV.** _(2 points)_ &mdash; Calculez le **libre parcours moyen** $l_{moy}$ et le **temps de collision** $\\tau$ qui sont les valeurs moyennes des deux listes compilées au numéro précédent.\n",
    "\n",
    "_(Pour votre information, le libre parcours moyen est de l’ordre de 100 nm dans l'air à température et pression ambiantes, mais_ $l_{moy}$ _peut dépasser 100 000 km dans une enceinte sous vide avec les technologies de pompes modernes!)_\n",
    "\n"
   ]
  },
  {
   "cell_type": "code",
   "execution_count": 1,
   "metadata": {
    "nteract": {
     "transient": {
      "deleting": false
     }
    }
   },
   "outputs": [
    {
     "data": {
      "text/html": [
       "<div id=\"glowscript\" class=\"glowscript\"></div>"
      ],
      "text/plain": [
       "<IPython.core.display.HTML object>"
      ]
     },
     "metadata": {},
     "output_type": "display_data"
    },
    {
     "data": {
      "application/javascript": [
       "if (typeof Jupyter !== \"undefined\") { window.__context = { glowscript_container: $(\"#glowscript\").removeAttr(\"id\")};}else{ element.textContent = ' ';}"
      ],
      "text/plain": [
       "<IPython.core.display.Javascript object>"
      ]
     },
     "metadata": {},
     "output_type": "display_data"
    },
    {
     "data": {
      "text/html": [
       "<div id=\"glowscript\" class=\"glowscript\"></div>"
      ],
      "text/plain": [
       "<IPython.core.display.HTML object>"
      ]
     },
     "metadata": {},
     "output_type": "display_data"
    },
    {
     "data": {
      "application/javascript": [
       "if (typeof Jupyter !== \"undefined\") { window.__context = { glowscript_container: $(\"#glowscript\").removeAttr(\"id\")};}else{ element.textContent = ' ';}"
      ],
      "text/plain": [
       "<IPython.core.display.Javascript object>"
      ]
     },
     "metadata": {},
     "output_type": "display_data"
    },
    {
     "name": "stdout",
     "output_type": "stream",
     "text": [
      "[199, 1]\n",
      "[199, 1]\n",
      "[120, 1]\n",
      "[120, 1]\n",
      "[120, 1]\n",
      "[120, 1]\n",
      "[120, 1]\n",
      "[120, 1]\n",
      "[120, 1]\n",
      "[120, 1]\n",
      "[120, 1]\n",
      "[120, 1]\n",
      "[120, 1]\n",
      "[120, 1]\n",
      "[120, 1]\n",
      "[120, 1]\n",
      "[120, 1]\n",
      "[120, 1]\n",
      "[120, 1]\n",
      "[120, 1]\n",
      "[120, 1]\n",
      "[120, 1]\n",
      "[120, 1]\n",
      "[120, 1]\n",
      "[120, 1]\n",
      "[120, 1]\n",
      "[120, 1]\n",
      "[120, 1]\n",
      "[120, 1]\n",
      "[120, 1]\n",
      "[120, 1]\n",
      "[120, 1]\n",
      "[120, 1]\n",
      "[120, 1]\n",
      "[120, 1]\n",
      "[120, 1]\n",
      "[120, 1]\n",
      "[120, 1]\n",
      "[120, 1]\n",
      "[120, 1]\n",
      "[120, 1]\n",
      "[120, 1]\n",
      "[120, 1]\n",
      "[159, 1]\n",
      "[159, 1]\n",
      "[159, 1]\n",
      "[159, 1]\n",
      "[159, 1]\n",
      "[159, 1]\n",
      "[159, 1]\n",
      "[90, 1]\n",
      "[90, 1]\n",
      "[90, 1]\n",
      "[90, 1]\n",
      "[90, 1]\n",
      "[90, 1]\n",
      "[109, 1]\n",
      "[109, 1]\n",
      "[109, 1]\n",
      "[109, 1]\n",
      "[109, 1]\n",
      "[120, 1]\n",
      "[120, 1]\n",
      "[120, 1]\n",
      "[120, 1]\n",
      "[120, 1]\n",
      "[120, 1]\n",
      "[120, 1]\n",
      "[120, 1]\n",
      "[120, 1]\n",
      "[120, 1]\n",
      "[120, 1]\n",
      "[120, 1]\n",
      "[120, 1]\n",
      "[120, 1]\n",
      "[120, 1]\n",
      "[120, 1]\n",
      "[120, 1]\n",
      "[120, 1]\n",
      "[120, 1]\n",
      "[120, 1]\n",
      "[120, 1]\n",
      "[120, 1]\n",
      "[120, 1]\n",
      "[120, 1]\n",
      "[120, 1]\n",
      "[87, 1]\n",
      "[87, 1]\n",
      "[87, 1]\n",
      "[87, 1]\n",
      "[87, 1]\n",
      "[87, 1]\n",
      "[87, 1]\n",
      "[87, 1]\n",
      "[87, 1]\n",
      "[87, 1]\n",
      "[87, 1]\n",
      "[87, 1]\n",
      "[87, 1]\n",
      "[87, 1]\n",
      "[87, 1]\n",
      "[87, 1]\n",
      "[44, 1]\n",
      "[44, 1]\n",
      "[44, 1]\n",
      "[44, 1]\n",
      "[44, 1]\n",
      "[44, 1]\n",
      "[154, 1]\n",
      "[154, 1]\n",
      "[154, 1]\n",
      "[154, 1]\n",
      "[154, 1]\n",
      "[154, 1]\n",
      "[154, 1]\n",
      "[154, 1]\n",
      "[154, 1]\n",
      "[154, 1]\n",
      "[154, 1]\n",
      "[154, 1]\n",
      "[154, 1]\n",
      "[154, 1]\n",
      "[150, 1]\n",
      "[150, 1]\n",
      "[150, 1]\n",
      "[150, 1]\n",
      "[150, 1]\n",
      "[150, 1]\n",
      "[150, 1]\n",
      "[150, 1]\n",
      "[150, 1]\n",
      "[150, 1]\n",
      "[150, 1]\n",
      "[150, 1]\n",
      "Le libre parcours moyen est de 0.04378702783925005 m\n",
      "Le temps de collision est de 3.629999999999995e-05 s\n",
      "Il y a eu 10 collisions lors de l'intervalle simulée! (0.00036299999999999945s)\n"
     ]
    }
   ],
   "source": [
    "from modifiedQuestion3_tds2Danimation_h25 import followParticuleList\n",
    "\n",
    "l_tot = 0\n",
    "for ij in followParticuleList:\n",
    "    l_tot += ij[0]\n",
    "\n",
    "t_tot = 0\n",
    "for ij in followParticuleList:\n",
    "    t_tot += ij[1]\n",
    "\n",
    "l_moy = l_tot/len(followParticuleList)\n",
    "t_moy = t_tot/len(followParticuleList)\n",
    "\n",
    "print(f\"Le libre parcours moyen est de {l_moy} m\")\n",
    "print(f\"Le temps de collision est de {t_moy} s\")\n",
    "print(f\"Il y a eu {len(followParticuleList)} collisions lors de l'intervalle simulée! ({t_tot}s)\")"
   ]
  },
  {
   "cell_type": "markdown",
   "metadata": {
    "nteract": {
     "transient": {
      "deleting": false
     }
    }
   },
   "source": [
    "**V.** _(2 points)_ Calculez la vitesse $\\vec{v}$ de la particule entre chaque paire de collisions. Quelle est la vitesse moyenne $\\langle\\vec{v}\\rangle$ de la particule?"
   ]
  },
  {
   "cell_type": "code",
   "execution_count": 2,
   "metadata": {
    "nteract": {
     "transient": {
      "deleting": false
     }
    }
   },
   "outputs": [
    {
     "name": "stdout",
     "output_type": "stream",
     "text": [
      "Les vitesse entre chaque collisions sont les suivantes:\n",
      "    Entre collision 0 et 1 : 1122.4972[m/s]\n",
      "    Entre collision 1 et 2 : 1184.8442[m/s]\n",
      "    Entre collision 2 et 3 : 1184.8442[m/s]\n",
      "    Entre collision 3 et 4 : 1052.66[m/s]\n",
      "    Entre collision 4 et 5 : 1843.1371[m/s]\n",
      "    Entre collision 5 et 6 : 1273.4481[m/s]\n",
      "    Entre collision 6 et 7 : 1054.9124[m/s]\n",
      "    Entre collision 7 et 8 : 1146.4117[m/s]\n",
      "    Entre collision 8 et 9 : 1429.5923[m/s]\n",
      "    Entre collision 9 et 10 : 1429.5923[m/s]\n",
      "La vitesse moyenne de la particule est de 1206.2542104476615 m/s\n",
      "[[0.0011224972160321825, 1e-06], [0.00829390947303111, 6.999999999999999e-06], [0.1291480189371991, 0.00010899999999999979], [0.12526653760121875, 0.00011899999999999976], [0.0018431371216258324, 1e-06], [0.017828273117154896, 1.4000000000000003e-05], [0.004219649484827009, 4e-06], [0.017196175175626178, 1.5000000000000004e-05], [0.09149390469903522, 6.399999999999992e-05], [0.04145817556675027, 2.900000000000001e-05]]\n"
     ]
    }
   ],
   "source": [
    "vitesseEntreCollisionsList = []\n",
    "for ij in followParticuleList:\n",
    "    vitesseEntreCollisionsList.append(ij[0]/ij[1])\n",
    "\n",
    "#Section suivante seulement pour debugging\n",
    "print(f\"Les vitesses entre chaque collisions sont les suivantes:\")\n",
    "increment = 0\n",
    "for v in vitesseEntreCollisionsList:\n",
    "    print(f\"    Entre collision {increment} et {increment + 1} : {round(v, 4)}[m/s]\")\n",
    "    increment += 1\n",
    "\n",
    "#Note: il serait possible de simplement calculer v_moy = l_moy / t_moy, mais l'approche qui suit est plus rigoureuse\n",
    "vitessePondered = 0\n",
    "for i in range(0, len(followParticuleList)):\n",
    "    vitessePondered += vitesseEntreCollisionsList[i]*followParticuleList[i][1]\n",
    "vitessePondered = vitessePondered/t_tot\n",
    "\n",
    "print(f\"La vitesse moyenne de la particule est de {vitessePondered} m/s\")\n",
    "\n",
    "print(followParticuleList)"
   ]
  },
  {
   "cell_type": "markdown",
   "metadata": {
    "nteract": {
     "transient": {
      "deleting": false
     }
    }
   },
   "source": [
    "**VI.** _(5 points)_ &mdash; Pour cette même liste de vitesses, comparez les distributions de la norme $||\\vec{v}||$, du carré $v^2$ et d’une de ses composantes $v_x^2$ en étalonnant l’abscisse pour contraster les histogrammes avec une échelle appropriée. Indiquez sur ce graphique la moyenne, le mode, la médiane et la moyenne quadratique des distributions."
   ]
  },
  {
   "cell_type": "code",
   "execution_count": null,
   "metadata": {
    "nteract": {
     "transient": {
      "deleting": false
     }
    }
   },
   "outputs": [],
   "source": [
    "\n",
    "#"
   ]
  },
  {
   "cell_type": "markdown",
   "metadata": {},
   "source": [
    "**Bonus.** _(4 points)_ &mdash; Montrez que \n",
    "- (a) le théorème central limite est satisfait par une des distributions de vitesse du numéro précédent,\n",
    "- (b) le système simulé est ergodique."
   ]
  },
  {
   "cell_type": "code",
   "execution_count": null,
   "metadata": {
    "nteract": {
     "transient": {
      "deleting": false
     }
    }
   },
   "outputs": [],
   "source": [
    "\n",
    "#"
   ]
  },
  {
   "cell_type": "markdown",
   "metadata": {
    "nteract": {
     "transient": {
      "deleting": false
     }
    }
   },
   "source": [
    "# Médiagraphie #\n",
    " - La simulation utilise la librairie <a href=\"https://vpython.org\">VPython</a> conçue pour faciliter la visualisation de physique en 3D, avec les instructions d’installation <a href=\"https://vpython.org/presentation2018/install.html\">ici</a> et la documentation <a href=\"https://www.glowscript.org/docs/VPythonDocs/index.html\">ici</a>. Le code adapte en 2D et commente en détail l’exemple <a href=\"https://www.glowscript.org/#/user/GlowScriptDemos/folder/Examples/program/HardSphereGas-VPython\">HardSphereGas-VPython</a> du site interactif <a href=\"https://www.glowscript.org\">GlowScript</a> pour programmer des animations avec VPython directement en ligne."
   ]
  }
 ],
 "metadata": {
  "kernelspec": {
   "display_name": "Python 3 (ipykernel)",
   "language": "python",
   "name": "python3"
  },
  "language_info": {
   "codemirror_mode": {
    "name": "ipython",
    "version": 3
   },
   "file_extension": ".py",
   "mimetype": "text/x-python",
   "name": "python",
   "nbconvert_exporter": "python",
   "pygments_lexer": "ipython3",
   "version": "3.12.9"
  }
 },
 "nbformat": 4,
 "nbformat_minor": 4
}
