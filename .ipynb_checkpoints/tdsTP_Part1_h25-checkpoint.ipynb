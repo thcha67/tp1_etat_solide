{
 "cells": [
  {
   "cell_type": "markdown",
   "metadata": {},
   "source": [
    "<h1 style=\"text-align:center\">Travail pratique numérique en thermodynamique statistique</h1>\n",
    "<h2 style=\"text-align:center\">PARTIE 1 : Cinétique des gaz parfaits</h2>\n",
    "\n",
    "Veuillez indiquer le nom des membres de votre équipe dans la cellule suivante."
   ]
  },
  {
   "cell_type": "markdown",
   "metadata": {},
   "source": [
    "Simon Gauthier, Laurent Emond, Thomas Charland et Tony Drouin"
   ]
  },
  {
   "cell_type": "markdown",
   "metadata": {
    "nteract": {
     "transient": {
      "deleting": false
     }
    }
   },
   "source": [
    "# Introduction #\n",
    "Ce travail révise d'abord quelques bases générales de mécanique statistique classique avec le script `tds2Danimation_hXX.py` qui simule la théorie cinétique des gaz parfaits en 2D. Cette simulation utilise le concept de sphères dures, mais ici pour le cas des particules d'un gaz afin d'introduire des collisions élastiques entre elles sur leurs trajectoires ballistiques. Notez qu'une sphère est colorée et grossie seulement pour l’effet visuel dans l'animation, la physique de l’algorithme codé considère bien des particules totalement identiques. Les questions sur cette simulation, à répondre directement dans les cellules du carnet _(Notebook)_ ici-même, explorent quelques paramètres de la thermodynamique statistique et introduisent de nouveaux termes utiles à l'étude du mouvement des électrons dans la matière.\n",
    "\n",
    "_N.B._ \n",
    "- _Pour montrer les animations à l'écran, le script `tds2Danimation_hXX.py` importe la librairie `VPython` qu'il faut donc installer. Des liens vers sa documentation et de l'information complémentaire sont donnés dans la médiagraphie à la fin._\n",
    "- _Le code dans ce script est abusivement commenté dans notre contexte pédagogique, mais il serait bien sûr préférable de s’en tenir aux recommandations du <a href=\"https://www.python.org/dev/peps/pep-0008\"> PEP 8 — Style Guide for Python Code</a>._\n",
    "- _Notez finalement que la boucle principale à la fin du script laisse l'utilisateur voir l'animation aussi longtemps que souhaité, assurez-vous donc de savoir comment l'interrompre correctement avant de lancer la simulation ou de la remplacer par une boucle `for`._"
   ]
  },
  {
   "cell_type": "markdown",
   "metadata": {
    "nteract": {
     "transient": {
      "deleting": false
     }
    }
   },
   "source": [
    "# 1<sup>re</sup> partie - Cinétique CLASSIQUE des gaz parfaits #"
   ]
  },
  {
   "cell_type": "markdown",
   "metadata": {
    "nteract": {
     "transient": {
      "deleting": false
     }
    }
   },
   "source": [
    "### Simulation 2D ###"
   ]
  },
  {
   "cell_type": "code",
   "execution_count": 1,
   "metadata": {},
   "outputs": [
    {
     "data": {
      "text/html": [
       "<div id=\"glowscript\" class=\"glowscript\"></div>"
      ],
      "text/plain": [
       "<IPython.core.display.HTML object>"
      ]
     },
     "metadata": {},
     "output_type": "display_data"
    },
    {
     "data": {
      "application/javascript": [
       "if (typeof Jupyter !== \"undefined\") { window.__context = { glowscript_container: $(\"#glowscript\").removeAttr(\"id\")};}else{ element.textContent = ' ';}"
      ],
      "text/plain": [
       "<IPython.core.display.Javascript object>"
      ]
     },
     "metadata": {},
     "output_type": "display_data"
    },
    {
     "data": {
      "text/html": [
       "<div id=\"glowscript\" class=\"glowscript\"></div>"
      ],
      "text/plain": [
       "<IPython.core.display.HTML object>"
      ]
     },
     "metadata": {},
     "output_type": "display_data"
    },
    {
     "data": {
      "application/javascript": [
       "if (typeof Jupyter !== \"undefined\") { window.__context = { glowscript_container: $(\"#glowscript\").removeAttr(\"id\")};}else{ element.textContent = ' ';}"
      ],
      "text/plain": [
       "<IPython.core.display.Javascript object>"
      ]
     },
     "metadata": {},
     "output_type": "display_data"
    }
   ],
   "source": [
    "%run tds2Danimation_h25.py\n",
    "# ou\n",
    "#%run tds3Dsim_h.py #si disponible : script sans la lente animation Vpython qui est en développement à la session h25!\n",
    "# Remplacez \"XX\" par les deux derniers chiffres de l'année de votre session.\n",
    "# N'hésitez pas à exécuter l'animation 2D ou la simulation 3D à l'extérieur du _Notebook_. Cette cellule vise à préciser que les questions qui suivent se basent sur ces scripts et doivent mener aux mêmes répomses autant en 2D qu'en 3D."
   ]
  },
  {
   "cell_type": "markdown",
   "metadata": {},
   "source": [
    "### Questions statistiques ###"
   ]
  },
  {
   "cell_type": "markdown",
   "metadata": {},
   "source": [
    "**I.** _(3 points)_  &mdash; Utilisez la liste finale des vecteurs de quantité de mouvement $\\vec{p}$ de toutes les sphères pour calculer la moyenne de son carré $\\langle p^2\\rangle=\\langle\\vec{p}\\cdot\\vec{p}\\rangle$ en écrivant le code nécessaire dans la cellule qui suit. "
   ]
  },
  {
   "cell_type": "code",
   "execution_count": 2,
   "metadata": {},
   "outputs": [
    {
     "data": {
      "text/html": [
       "<div id=\"glowscript\" class=\"glowscript\"></div>"
      ],
      "text/plain": [
       "<IPython.core.display.HTML object>"
      ]
     },
     "metadata": {},
     "output_type": "display_data"
    },
    {
     "data": {
      "application/javascript": [
       "if (typeof Jupyter !== \"undefined\") { window.__context = { glowscript_container: $(\"#glowscript\").removeAttr(\"id\")};}else{ element.textContent = ' ';}"
      ],
      "text/plain": [
       "<IPython.core.display.Javascript object>"
      ]
     },
     "metadata": {},
     "output_type": "display_data"
    },
    {
     "name": "stdout",
     "output_type": "stream",
     "text": [
      "La quantité de mouvement carrée moyenne des particules est de 5.599999999999999e-47 kg.m/s.\n"
     ]
    }
   ],
   "source": [
    "import numpy as np\n",
    "from tds2Danimation_h25 import p\n",
    "\n",
    "array_p = []\n",
    "\n",
    "for v in p:\n",
    "    array_p.append(np.array([v.x, v.y, v.z]))\n",
    "\n",
    "array_p = np.array(array_p)\n",
    "\n",
    "momentum_all_particles = []\n",
    "\n",
    "for v in array_p:\n",
    "    momentum = v[0]**2 + v[1]**2 + v[2]**2\n",
    "    momentum_all_particles.append(momentum)\n",
    "\n",
    "average_momentum = np.mean(momentum_all_particles)\n",
    "\n",
    "print(f\"La quantité de mouvement carrée moyenne des particules est de {average_momentum} kg.m/s.\")"
   ]
  },
  {
   "cell_type": "markdown",
   "metadata": {},
   "source": [
    "\n",
    "**II.** _(2 points)_  &mdash; La température $T$ (macroscopique) est proportionnelle à l'énergie cinétique moyenne $E_{cin}$ de l'ensemble des particules lorsque ce système est rendu à l'équilibre. Celle-ci peut se calculer classiquement selon son <a href=\"https://fr.wikipedia.org/wiki/%C3%89quipartition_de_l%27%C3%A9nergie\">principe d'équipartition</a>, _i.e._ en répartissant l'énergie également sur chaque degré de liberté ici en translation seulement d'où, au total pour $\\text{DIM}=1,2\\text{ ou } 3$ dimensions d'espace réel,\n",
    "\\begin{equation}\n",
    "E_{cin}=\\frac{\\langle p^2 \\rangle}{2m}=\\text{DIM}\\times\\frac{1}{2}k_BT\n",
    "\\end{equation}\n",
    "avec $k_B$, la constante de Boltzmann et $m$, la masse de chaque particule. Quelle est la température du gaz de sphères dures à la fin de la simulation? Est-ce qu'elle a changé significativement par rapport à sa valeur initiale?"
   ]
  },
  {
   "cell_type": "code",
   "execution_count": 3,
   "metadata": {},
   "outputs": [
    {
     "name": "stdout",
     "output_type": "stream",
     "text": [
      "La température du gaz est de 300.0K à la fin de la simulation.\n"
     ]
    }
   ],
   "source": [
    "#Définition des paramètres selon ceux de la simulation\n",
    "dim = 2\n",
    "k_b = 1.4E-23\n",
    "m = 4E-3/6E23\n",
    "\n",
    "gas_temperature = round(average_momentum / (m*dim*k_b), 2)\n",
    "\n",
    "print(f\"La température du gaz est de {gas_temperature}K à la fin de la simulation.\")"
   ]
  },
  {
   "cell_type": "markdown",
   "metadata": {
    "nteract": {
     "transient": {
      "deleting": false
     }
    }
   },
   "source": [
    "**III.** _(10 points)_ &mdash; Modifiez le code de la simulation pour ajouter une fonction qui suit la trajectoire d'UNE SEULE particule, c'est-à-dire qu'elle doit enregistrer, dans une liste, des valeurs de variables pour cette particule et ce, à chacune de ses collisions avec une autre particule (_i.e._ excluez les collisions avec les parois de la boîte). Les deux variables scalaires à lister sont:\n",
    "- la distance que la particule a parcouru entre chaque collision,\n",
    "- le temps écoulé entre ces collisions.\n",
    "\n",
    "Copiez le code de votre fonction dans la cellule qui suit en y commentant clairement les variables pour ces listes qui devront persister après avoir interrompu l'exécution de la simulation. N'oubliez pas d'inclure votre fichier Python (`.py`) modifié avec la simulation complète lors de la remise."
   ]
  },
  {
   "cell_type": "code",
   "execution_count": 4,
   "metadata": {
    "nteract": {
     "transient": {
      "deleting": false
     }
    },
    "scrolled": true
   },
   "outputs": [],
   "source": [
    "#Intégrée dans la boucle principale, la fonction suivra la progression d'une particule\n",
    "#Lorsqu'une collision a lieu, les données accumulatedTime et accumulatedDistance seront sauvées dans une followParticuleList (variable globale)\n",
    "#Cette variable globale sera celle qui persistera après la simulation complète\n",
    "\n",
    "followParticuleList = []\n",
    "def followParticule(hitlist, accumulatedDistanceX, accumulatedDistanceY, accumulatedDistanceZ, accumulatedTime, previousCollision):\n",
    "    particuleNumber = 1 #numéro de la particule que nous suivrons\n",
    "    vitesseParticule = p[particuleNumber]/mass\n",
    "    \n",
    "    accumulatedTime += dt\n",
    "    accumulatedDistanceX += vitesseParticule.x*dt\n",
    "    accumulatedDistanceY += vitesseParticule.y*dt\n",
    "    accumulatedDistanceZ += vitesseParticule.z*dt\n",
    "\n",
    "    hit = False\n",
    "    for ij in hitlist:\n",
    "        if ij[0] == particuleNumber or ij[1] == particuleNumber:\n",
    "            hit = True\n",
    "            currentCollision = ij\n",
    "    \n",
    "    if hit:\n",
    "        if previousCollision != currentCollision: #avoids repetition of same collision\n",
    "            followParticuleList.append([accumulatedDistanceX, accumulatedDistanceY, accumulatedDistanceZ, accumulatedTime])\n",
    "            previousCollision = currentCollision\n",
    "        return 0, 0, previousCollision\n",
    "    else:\n",
    "        return accumulatedDistanceX, accumulatedDistanceY, accumulatedDistanceZ, accumulatedTime, previousCollision"
   ]
  },
  {
   "cell_type": "markdown",
   "metadata": {
    "nteract": {
     "transient": {
      "deleting": false
     }
    }
   },
   "source": [
    "**IV.** _(2 points)_ &mdash; Calculez le **libre parcours moyen** $l_{moy}$ et le **temps de collision** $\\tau$ qui sont les valeurs moyennes des deux listes compilées au numéro précédent.\n",
    "\n",
    "_(Pour votre information, le libre parcours moyen est de l’ordre de 100 nm dans l'air à température et pression ambiantes, mais_ $l_{moy}$ _peut dépasser 100 000 km dans une enceinte sous vide avec les technologies de pompes modernes!)_\n",
    "\n"
   ]
  },
  {
   "cell_type": "code",
   "execution_count": 5,
   "metadata": {
    "nteract": {
     "transient": {
      "deleting": false
     }
    }
   },
   "outputs": [
    {
     "data": {
      "text/html": [
       "<div id=\"glowscript\" class=\"glowscript\"></div>"
      ],
      "text/plain": [
       "<IPython.core.display.HTML object>"
      ]
     },
     "metadata": {},
     "output_type": "display_data"
    },
    {
     "data": {
      "application/javascript": [
       "if (typeof Jupyter !== \"undefined\") { window.__context = { glowscript_container: $(\"#glowscript\").removeAttr(\"id\")};}else{ element.textContent = ' ';}"
      ],
      "text/plain": [
       "<IPython.core.display.Javascript object>"
      ]
     },
     "metadata": {},
     "output_type": "display_data"
    },
    {
     "name": "stderr",
     "output_type": "stream",
     "text": [
      "100%|████████████████████████████████████████████████████████████████████████████████████████████████████████████████████████████████████████████████████████████████████| 30000/30000 [05:51<00:00, 85.43it/s]\n"
     ]
    },
    {
     "name": "stdout",
     "output_type": "stream",
     "text": [
      "Le libre parcours moyen est de 0.0657829324782385 m\n",
      "Le temps de collision est de 7.043213296398893e-05 s\n",
      "Il y a eu 361 collisions lors de l'intervalle simulée! (0.025426000000000004s)\n"
     ]
    }
   ],
   "source": [
    "from modifiedQuestion3_tds2Danimation_h25 import followParticuleList\n",
    "\n",
    "l_tot = 0\n",
    "for ij in followParticuleList:\n",
    "    l_tot += np.sqrt(ij[0]**2 + ij[1]**2 + ij[2]**2)\n",
    "\n",
    "t_tot = 0\n",
    "for ij in followParticuleList:\n",
    "    t_tot += ij[3]\n",
    "\n",
    "l_moy = l_tot/len(followParticuleList)\n",
    "t_moy = t_tot/len(followParticuleList)\n",
    "\n",
    "print(f\"Le libre parcours moyen est de {l_moy} m\")\n",
    "print(f\"Le temps de collision est de {t_moy} s\")\n",
    "print(f\"Il y a eu {len(followParticuleList)} collisions lors de l'intervalle simulée! ({t_tot}s)\")"
   ]
  },
  {
   "cell_type": "markdown",
   "metadata": {
    "nteract": {
     "transient": {
      "deleting": false
     }
    }
   },
   "source": [
    "**V.** _(2 points)_ Calculez la vitesse $\\vec{v}$ de la particule entre chaque paire de collisions. Quelle est la vitesse moyenne $\\langle\\vec{v}\\rangle$ de la particule?"
   ]
  },
  {
   "cell_type": "code",
   "execution_count": 6,
   "metadata": {
    "nteract": {
     "transient": {
      "deleting": false
     }
    }
   },
   "outputs": [
    {
     "name": "stdout",
     "output_type": "stream",
     "text": [
      "Les vitesses entre chaque collisions sont les suivantes:\n",
      "    Entre collision 0 et 1 : 1122.4972[m/s]\n",
      "    Entre collision 1 et 2 : 1378.8922[m/s]\n",
      "    Entre collision 2 et 3 : 1755.6063[m/s]\n",
      "    Entre collision 3 et 4 : 279.3035[m/s]\n",
      "    Entre collision 4 et 5 : 337.5924[m/s]\n",
      "    Entre collision 5 et 6 : 337.5924[m/s]\n",
      "    Entre collision 6 et 7 : 1361.5018[m/s]\n",
      "    Entre collision 7 et 8 : 1868.3968[m/s]\n",
      "    Entre collision 8 et 9 : 1868.3968[m/s]\n",
      "    Entre collision 9 et 10 : 1915.7412[m/s]\n",
      "    Entre collision 10 et 11 : 651.462[m/s]\n",
      "    Entre collision 11 et 12 : 651.462[m/s]\n",
      "    Entre collision 12 et 13 : 651.462[m/s]\n",
      "    Entre collision 13 et 14 : 978.8267[m/s]\n",
      "    Entre collision 14 et 15 : 1293.515[m/s]\n",
      "    Entre collision 15 et 16 : 2025.9085[m/s]\n",
      "    Entre collision 16 et 17 : 1840.4856[m/s]\n",
      "    Entre collision 17 et 18 : 2025.9085[m/s]\n",
      "    Entre collision 18 et 19 : 2025.9085[m/s]\n",
      "    Entre collision 19 et 20 : 2114.9675[m/s]\n",
      "    Entre collision 20 et 21 : 739.6151[m/s]\n",
      "    Entre collision 21 et 22 : 739.6151[m/s]\n",
      "    Entre collision 22 et 23 : 898.5633[m/s]\n",
      "    Entre collision 23 et 24 : 952.8421[m/s]\n",
      "    Entre collision 24 et 25 : 952.8421[m/s]\n",
      "    Entre collision 25 et 26 : 952.8421[m/s]\n",
      "    Entre collision 26 et 27 : 1532.6076[m/s]\n",
      "    Entre collision 27 et 28 : 1532.6076[m/s]\n",
      "    Entre collision 28 et 29 : 1532.6076[m/s]\n",
      "    Entre collision 29 et 30 : 1090.7228[m/s]\n",
      "    Entre collision 30 et 31 : 973.6664[m/s]\n",
      "    Entre collision 31 et 32 : 488.2675[m/s]\n",
      "    Entre collision 32 et 33 : 488.2675[m/s]\n",
      "    Entre collision 33 et 34 : 642.8646[m/s]\n",
      "    Entre collision 34 et 35 : 642.8646[m/s]\n",
      "    Entre collision 35 et 36 : 265.6557[m/s]\n",
      "    Entre collision 36 et 37 : 145.8578[m/s]\n",
      "    Entre collision 37 et 38 : 1456.3038[m/s]\n",
      "    Entre collision 38 et 39 : 710.6384[m/s]\n",
      "    Entre collision 39 et 40 : 1266.5407[m/s]\n",
      "    Entre collision 40 et 41 : 1266.5407[m/s]\n",
      "    Entre collision 41 et 42 : 1756.4183[m/s]\n",
      "    Entre collision 42 et 43 : 1081.6489[m/s]\n",
      "    Entre collision 43 et 44 : 1081.6489[m/s]\n",
      "    Entre collision 44 et 45 : 1137.1673[m/s]\n",
      "    Entre collision 45 et 46 : 1063.539[m/s]\n",
      "    Entre collision 46 et 47 : 739.5314[m/s]\n",
      "    Entre collision 47 et 48 : 592.1713[m/s]\n",
      "    Entre collision 48 et 49 : 592.1713[m/s]\n",
      "    Entre collision 49 et 50 : 592.1713[m/s]\n",
      "    Entre collision 50 et 51 : 972.983[m/s]\n",
      "    Entre collision 51 et 52 : 972.983[m/s]\n",
      "    Entre collision 52 et 53 : 1232.5292[m/s]\n",
      "    Entre collision 53 et 54 : 763.2371[m/s]\n",
      "    Entre collision 54 et 55 : 1669.1595[m/s]\n",
      "    Entre collision 55 et 56 : 1669.1595[m/s]\n",
      "    Entre collision 56 et 57 : 1437.9665[m/s]\n",
      "    Entre collision 57 et 58 : 1059.2527[m/s]\n",
      "    Entre collision 58 et 59 : 565.4029[m/s]\n",
      "    Entre collision 59 et 60 : 565.4029[m/s]\n",
      "    Entre collision 60 et 61 : 565.4029[m/s]\n",
      "    Entre collision 61 et 62 : 1778.3407[m/s]\n",
      "    Entre collision 62 et 63 : 793.4644[m/s]\n",
      "    Entre collision 63 et 64 : 793.4644[m/s]\n",
      "    Entre collision 64 et 65 : 424.1773[m/s]\n",
      "    Entre collision 65 et 66 : 1238.9111[m/s]\n",
      "    Entre collision 66 et 67 : 1098.7125[m/s]\n",
      "    Entre collision 67 et 68 : 1098.7125[m/s]\n",
      "    Entre collision 68 et 69 : 426.6066[m/s]\n",
      "    Entre collision 69 et 70 : 426.6066[m/s]\n",
      "    Entre collision 70 et 71 : 426.6066[m/s]\n",
      "    Entre collision 71 et 72 : 426.6066[m/s]\n",
      "    Entre collision 72 et 73 : 290.8912[m/s]\n",
      "    Entre collision 73 et 74 : 290.8912[m/s]\n",
      "    Entre collision 74 et 75 : 1469.6846[m/s]\n",
      "    Entre collision 75 et 76 : 1469.6846[m/s]\n",
      "    Entre collision 76 et 77 : 1217.5802[m/s]\n",
      "    Entre collision 77 et 78 : 1217.5802[m/s]\n",
      "    Entre collision 78 et 79 : 766.1896[m/s]\n",
      "    Entre collision 79 et 80 : 1412.3[m/s]\n",
      "    Entre collision 80 et 81 : 689.5943[m/s]\n",
      "    Entre collision 81 et 82 : 689.5943[m/s]\n",
      "    Entre collision 82 et 83 : 1322.1858[m/s]\n",
      "    Entre collision 83 et 84 : 231.5357[m/s]\n",
      "    Entre collision 84 et 85 : 1739.2407[m/s]\n",
      "    Entre collision 85 et 86 : 839.8865[m/s]\n",
      "    Entre collision 86 et 87 : 528.3058[m/s]\n",
      "    Entre collision 87 et 88 : 750.0797[m/s]\n",
      "    Entre collision 88 et 89 : 697.1[m/s]\n",
      "    Entre collision 89 et 90 : 750.0797[m/s]\n",
      "    Entre collision 90 et 91 : 1494.6948[m/s]\n",
      "    Entre collision 91 et 92 : 1650.9242[m/s]\n",
      "    Entre collision 92 et 93 : 1334.7176[m/s]\n",
      "    Entre collision 93 et 94 : 1613.3699[m/s]\n",
      "    Entre collision 94 et 95 : 1613.3699[m/s]\n",
      "    Entre collision 95 et 96 : 941.3666[m/s]\n",
      "    Entre collision 96 et 97 : 858.8778[m/s]\n",
      "    Entre collision 97 et 98 : 978.3138[m/s]\n",
      "    Entre collision 98 et 99 : 978.3138[m/s]\n",
      "    Entre collision 99 et 100 : 978.3138[m/s]\n",
      "    Entre collision 100 et 101 : 978.3138[m/s]\n",
      "    Entre collision 101 et 102 : 978.3138[m/s]\n",
      "    Entre collision 102 et 103 : 342.3794[m/s]\n",
      "    Entre collision 103 et 104 : 523.7031[m/s]\n",
      "    Entre collision 104 et 105 : 1385.4777[m/s]\n",
      "    Entre collision 105 et 106 : 1385.4777[m/s]\n",
      "    Entre collision 106 et 107 : 1270.4179[m/s]\n",
      "    Entre collision 107 et 108 : 1277.8225[m/s]\n",
      "    Entre collision 108 et 109 : 1277.8225[m/s]\n",
      "    Entre collision 109 et 110 : 1490.5935[m/s]\n",
      "    Entre collision 110 et 111 : 1490.5935[m/s]\n",
      "    Entre collision 111 et 112 : 1490.5935[m/s]\n",
      "    Entre collision 112 et 113 : 1380.2602[m/s]\n",
      "    Entre collision 113 et 114 : 1112.155[m/s]\n",
      "    Entre collision 114 et 115 : 1706.8511[m/s]\n",
      "    Entre collision 115 et 116 : 1706.8511[m/s]\n",
      "    Entre collision 116 et 117 : 1706.8511[m/s]\n",
      "    Entre collision 117 et 118 : 1706.8511[m/s]\n",
      "    Entre collision 118 et 119 : 1706.8511[m/s]\n",
      "    Entre collision 119 et 120 : 1070.0215[m/s]\n",
      "    Entre collision 120 et 121 : 1397.6449[m/s]\n",
      "    Entre collision 121 et 122 : 566.3828[m/s]\n",
      "    Entre collision 122 et 123 : 628.1918[m/s]\n",
      "    Entre collision 123 et 124 : 628.1918[m/s]\n",
      "    Entre collision 124 et 125 : 628.1918[m/s]\n",
      "    Entre collision 125 et 126 : 628.1918[m/s]\n",
      "    Entre collision 126 et 127 : 547.522[m/s]\n",
      "    Entre collision 127 et 128 : 1563.1489[m/s]\n",
      "    Entre collision 128 et 129 : 1793.9835[m/s]\n",
      "    Entre collision 129 et 130 : 1332.0655[m/s]\n",
      "    Entre collision 130 et 131 : 1332.0655[m/s]\n",
      "    Entre collision 131 et 132 : 1332.0655[m/s]\n",
      "    Entre collision 132 et 133 : 1105.8317[m/s]\n",
      "    Entre collision 133 et 134 : 120.0899[m/s]\n",
      "    Entre collision 134 et 135 : 120.0899[m/s]\n",
      "    Entre collision 135 et 136 : 120.0899[m/s]\n",
      "    Entre collision 136 et 137 : 1053.9889[m/s]\n",
      "    Entre collision 137 et 138 : 597.3646[m/s]\n",
      "    Entre collision 138 et 139 : 597.3646[m/s]\n",
      "    Entre collision 139 et 140 : 597.3646[m/s]\n",
      "    Entre collision 140 et 141 : 597.3646[m/s]\n",
      "    Entre collision 141 et 142 : 1110.9439[m/s]\n",
      "    Entre collision 142 et 143 : 527.7257[m/s]\n",
      "    Entre collision 143 et 144 : 527.7257[m/s]\n",
      "    Entre collision 144 et 145 : 496.883[m/s]\n",
      "    Entre collision 145 et 146 : 496.883[m/s]\n",
      "    Entre collision 146 et 147 : 660.3002[m/s]\n",
      "    Entre collision 147 et 148 : 660.3002[m/s]\n",
      "    Entre collision 148 et 149 : 660.3002[m/s]\n",
      "    Entre collision 149 et 150 : 660.3002[m/s]\n",
      "    Entre collision 150 et 151 : 609.8526[m/s]\n",
      "    Entre collision 151 et 152 : 609.8526[m/s]\n",
      "    Entre collision 152 et 153 : 609.8526[m/s]\n",
      "    Entre collision 153 et 154 : 1001.7773[m/s]\n",
      "    Entre collision 154 et 155 : 651.9887[m/s]\n",
      "    Entre collision 155 et 156 : 417.6067[m/s]\n",
      "    Entre collision 156 et 157 : 908.7033[m/s]\n",
      "    Entre collision 157 et 158 : 499.0243[m/s]\n",
      "    Entre collision 158 et 159 : 1260.0432[m/s]\n",
      "    Entre collision 159 et 160 : 1260.0432[m/s]\n",
      "    Entre collision 160 et 161 : 968.7377[m/s]\n",
      "    Entre collision 161 et 162 : 1260.0432[m/s]\n",
      "    Entre collision 162 et 163 : 451.6052[m/s]\n",
      "    Entre collision 163 et 164 : 973.9684[m/s]\n",
      "    Entre collision 164 et 165 : 973.9684[m/s]\n",
      "    Entre collision 165 et 166 : 1488.0395[m/s]\n",
      "    Entre collision 166 et 167 : 1488.0395[m/s]\n",
      "    Entre collision 167 et 168 : 1402.21[m/s]\n",
      "    Entre collision 168 et 169 : 1402.21[m/s]\n",
      "    Entre collision 169 et 170 : 1065.9059[m/s]\n",
      "    Entre collision 170 et 171 : 894.4768[m/s]\n",
      "    Entre collision 171 et 172 : 608.196[m/s]\n",
      "    Entre collision 172 et 173 : 477.386[m/s]\n",
      "    Entre collision 173 et 174 : 1529.3297[m/s]\n",
      "    Entre collision 174 et 175 : 618.9178[m/s]\n",
      "    Entre collision 175 et 176 : 639.248[m/s]\n",
      "    Entre collision 176 et 177 : 639.248[m/s]\n",
      "    Entre collision 177 et 178 : 405.7672[m/s]\n",
      "    Entre collision 178 et 179 : 405.7672[m/s]\n",
      "    Entre collision 179 et 180 : 909.6996[m/s]\n",
      "    Entre collision 180 et 181 : 909.6996[m/s]\n",
      "    Entre collision 181 et 182 : 909.6996[m/s]\n",
      "    Entre collision 182 et 183 : 2912.6334[m/s]\n",
      "    Entre collision 183 et 184 : 2533.9022[m/s]\n",
      "    Entre collision 184 et 185 : 2533.9022[m/s]\n",
      "    Entre collision 185 et 186 : 2533.9022[m/s]\n",
      "    Entre collision 186 et 187 : 2533.9022[m/s]\n",
      "    Entre collision 187 et 188 : 2533.9022[m/s]\n",
      "    Entre collision 188 et 189 : 1521.9[m/s]\n",
      "    Entre collision 189 et 190 : 1521.9[m/s]\n",
      "    Entre collision 190 et 191 : 1521.9[m/s]\n",
      "    Entre collision 191 et 192 : 1722.6737[m/s]\n",
      "    Entre collision 192 et 193 : 448.7914[m/s]\n",
      "    Entre collision 193 et 194 : 1594.4715[m/s]\n",
      "    Entre collision 194 et 195 : 2387.7676[m/s]\n",
      "    Entre collision 195 et 196 : 2387.7676[m/s]\n",
      "    Entre collision 196 et 197 : 3612.712[m/s]\n",
      "    Entre collision 197 et 198 : 1272.231[m/s]\n",
      "    Entre collision 198 et 199 : 1272.231[m/s]\n",
      "    Entre collision 199 et 200 : 1157.9718[m/s]\n",
      "    Entre collision 200 et 201 : 605.8763[m/s]\n",
      "    Entre collision 201 et 202 : 1653.9298[m/s]\n",
      "    Entre collision 202 et 203 : 1653.9298[m/s]\n",
      "    Entre collision 203 et 204 : 1296.0364[m/s]\n",
      "    Entre collision 204 et 205 : 1296.0364[m/s]\n",
      "    Entre collision 205 et 206 : 1296.0364[m/s]\n",
      "    Entre collision 206 et 207 : 1296.0364[m/s]\n",
      "    Entre collision 207 et 208 : 603.3012[m/s]\n",
      "    Entre collision 208 et 209 : 603.3012[m/s]\n",
      "    Entre collision 209 et 210 : 1164.5458[m/s]\n",
      "    Entre collision 210 et 211 : 355.2715[m/s]\n",
      "    Entre collision 211 et 212 : 1164.5458[m/s]\n",
      "    Entre collision 212 et 213 : 544.3597[m/s]\n",
      "    Entre collision 213 et 214 : 1425.624[m/s]\n",
      "    Entre collision 214 et 215 : 1425.624[m/s]\n",
      "    Entre collision 215 et 216 : 2239.6514[m/s]\n",
      "    Entre collision 216 et 217 : 2239.6514[m/s]\n",
      "    Entre collision 217 et 218 : 2239.6514[m/s]\n",
      "    Entre collision 218 et 219 : 1899.0168[m/s]\n",
      "    Entre collision 219 et 220 : 1943.3041[m/s]\n",
      "    Entre collision 220 et 221 : 1943.3041[m/s]\n",
      "    Entre collision 221 et 222 : 2681.0655[m/s]\n",
      "    Entre collision 222 et 223 : 3147.409[m/s]\n",
      "    Entre collision 223 et 224 : 2139.8253[m/s]\n",
      "    Entre collision 224 et 225 : 2533.6269[m/s]\n",
      "    Entre collision 225 et 226 : 2533.6269[m/s]\n",
      "    Entre collision 226 et 227 : 2533.6269[m/s]\n",
      "    Entre collision 227 et 228 : 3570.138[m/s]\n",
      "    Entre collision 228 et 229 : 2834.8317[m/s]\n",
      "    Entre collision 229 et 230 : 2740.3198[m/s]\n",
      "    Entre collision 230 et 231 : 2740.3198[m/s]\n",
      "    Entre collision 231 et 232 : 3472.102[m/s]\n",
      "    Entre collision 232 et 233 : 1062.2852[m/s]\n",
      "    Entre collision 233 et 234 : 1062.2852[m/s]\n",
      "    Entre collision 234 et 235 : 1059.0444[m/s]\n",
      "    Entre collision 235 et 236 : 1059.0444[m/s]\n",
      "    Entre collision 236 et 237 : 1187.8304[m/s]\n",
      "    Entre collision 237 et 238 : 1187.8304[m/s]\n",
      "    Entre collision 238 et 239 : 467.0007[m/s]\n",
      "    Entre collision 239 et 240 : 1187.8304[m/s]\n",
      "    Entre collision 240 et 241 : 1187.8304[m/s]\n",
      "    Entre collision 241 et 242 : 1187.8304[m/s]\n",
      "    Entre collision 242 et 243 : 1187.8304[m/s]\n",
      "    Entre collision 243 et 244 : 783.1501[m/s]\n",
      "    Entre collision 244 et 245 : 783.1501[m/s]\n",
      "    Entre collision 245 et 246 : 783.1501[m/s]\n",
      "    Entre collision 246 et 247 : 783.1501[m/s]\n",
      "    Entre collision 247 et 248 : 783.1501[m/s]\n",
      "    Entre collision 248 et 249 : 783.1501[m/s]\n",
      "    Entre collision 249 et 250 : 783.1501[m/s]\n",
      "    Entre collision 250 et 251 : 723.2136[m/s]\n",
      "    Entre collision 251 et 252 : 783.1501[m/s]\n",
      "    Entre collision 252 et 253 : 1366.0012[m/s]\n",
      "    Entre collision 253 et 254 : 1366.0012[m/s]\n",
      "    Entre collision 254 et 255 : 401.4021[m/s]\n",
      "    Entre collision 255 et 256 : 456.0849[m/s]\n",
      "    Entre collision 256 et 257 : 1091.7302[m/s]\n",
      "    Entre collision 257 et 258 : 1091.7302[m/s]\n",
      "    Entre collision 258 et 259 : 401.4544[m/s]\n",
      "    Entre collision 259 et 260 : 401.4544[m/s]\n",
      "    Entre collision 260 et 261 : 1557.1552[m/s]\n",
      "    Entre collision 261 et 262 : 893.8041[m/s]\n",
      "    Entre collision 262 et 263 : 1417.2225[m/s]\n",
      "    Entre collision 263 et 264 : 633.3855[m/s]\n",
      "    Entre collision 264 et 265 : 663.1994[m/s]\n",
      "    Entre collision 265 et 266 : 837.9095[m/s]\n",
      "    Entre collision 266 et 267 : 851.2834[m/s]\n",
      "    Entre collision 267 et 268 : 851.2834[m/s]\n",
      "    Entre collision 268 et 269 : 741.7782[m/s]\n",
      "    Entre collision 269 et 270 : 1163.1836[m/s]\n",
      "    Entre collision 270 et 271 : 1152.9886[m/s]\n",
      "    Entre collision 271 et 272 : 726.9932[m/s]\n",
      "    Entre collision 272 et 273 : 726.9932[m/s]\n",
      "    Entre collision 273 et 274 : 676.2844[m/s]\n",
      "    Entre collision 274 et 275 : 770.3564[m/s]\n",
      "    Entre collision 275 et 276 : 887.1867[m/s]\n",
      "    Entre collision 276 et 277 : 887.1867[m/s]\n",
      "    Entre collision 277 et 278 : 887.1867[m/s]\n",
      "    Entre collision 278 et 279 : 887.1867[m/s]\n",
      "    Entre collision 279 et 280 : 422.3494[m/s]\n",
      "    Entre collision 280 et 281 : 451.5156[m/s]\n",
      "    Entre collision 281 et 282 : 451.5156[m/s]\n",
      "    Entre collision 282 et 283 : 519.3173[m/s]\n",
      "    Entre collision 283 et 284 : 519.3173[m/s]\n",
      "    Entre collision 284 et 285 : 519.3173[m/s]\n",
      "    Entre collision 285 et 286 : 875.0288[m/s]\n",
      "    Entre collision 286 et 287 : 875.0288[m/s]\n",
      "    Entre collision 287 et 288 : 875.0288[m/s]\n",
      "    Entre collision 288 et 289 : 875.0288[m/s]\n",
      "    Entre collision 289 et 290 : 1130.7633[m/s]\n",
      "    Entre collision 290 et 291 : 244.2673[m/s]\n",
      "    Entre collision 291 et 292 : 902.9313[m/s]\n",
      "    Entre collision 292 et 293 : 921.4476[m/s]\n",
      "    Entre collision 293 et 294 : 921.4476[m/s]\n",
      "    Entre collision 294 et 295 : 178.2475[m/s]\n",
      "    Entre collision 295 et 296 : 178.2475[m/s]\n",
      "    Entre collision 296 et 297 : 866.8732[m/s]\n",
      "    Entre collision 297 et 298 : 1741.3149[m/s]\n",
      "    Entre collision 298 et 299 : 1111.5844[m/s]\n",
      "    Entre collision 299 et 300 : 1111.5844[m/s]\n",
      "    Entre collision 300 et 301 : 794.8877[m/s]\n",
      "    Entre collision 301 et 302 : 794.8877[m/s]\n",
      "    Entre collision 302 et 303 : 794.8877[m/s]\n",
      "    Entre collision 303 et 304 : 377.7742[m/s]\n",
      "    Entre collision 304 et 305 : 1260.376[m/s]\n",
      "    Entre collision 305 et 306 : 1260.376[m/s]\n",
      "    Entre collision 306 et 307 : 1260.376[m/s]\n",
      "    Entre collision 307 et 308 : 1260.376[m/s]\n",
      "    Entre collision 308 et 309 : 1260.376[m/s]\n",
      "    Entre collision 309 et 310 : 1607.1151[m/s]\n",
      "    Entre collision 310 et 311 : 631.2012[m/s]\n",
      "    Entre collision 311 et 312 : 1607.1151[m/s]\n",
      "    Entre collision 312 et 313 : 1668.7256[m/s]\n",
      "    Entre collision 313 et 314 : 1730.9268[m/s]\n",
      "    Entre collision 314 et 315 : 1109.5949[m/s]\n",
      "    Entre collision 315 et 316 : 1109.5949[m/s]\n",
      "    Entre collision 316 et 317 : 927.0853[m/s]\n",
      "    Entre collision 317 et 318 : 927.0853[m/s]\n",
      "    Entre collision 318 et 319 : 927.0853[m/s]\n",
      "    Entre collision 319 et 320 : 927.0853[m/s]\n",
      "    Entre collision 320 et 321 : 927.0853[m/s]\n",
      "    Entre collision 321 et 322 : 927.0853[m/s]\n",
      "    Entre collision 322 et 323 : 615.9033[m/s]\n",
      "    Entre collision 323 et 324 : 611.3997[m/s]\n",
      "    Entre collision 324 et 325 : 611.3997[m/s]\n",
      "    Entre collision 325 et 326 : 895.0136[m/s]\n",
      "    Entre collision 326 et 327 : 895.0136[m/s]\n",
      "    Entre collision 327 et 328 : 1205.5629[m/s]\n",
      "    Entre collision 328 et 329 : 808.26[m/s]\n",
      "    Entre collision 329 et 330 : 1807.3999[m/s]\n",
      "    Entre collision 330 et 331 : 1116.5742[m/s]\n",
      "    Entre collision 331 et 332 : 1116.5742[m/s]\n",
      "    Entre collision 332 et 333 : 1238.3825[m/s]\n",
      "    Entre collision 333 et 334 : 825.1726[m/s]\n",
      "    Entre collision 334 et 335 : 825.1726[m/s]\n",
      "    Entre collision 335 et 336 : 825.1726[m/s]\n",
      "    Entre collision 336 et 337 : 825.1726[m/s]\n",
      "    Entre collision 337 et 338 : 1107.397[m/s]\n",
      "    Entre collision 338 et 339 : 1107.397[m/s]\n",
      "    Entre collision 339 et 340 : 1107.397[m/s]\n",
      "    Entre collision 340 et 341 : 272.9809[m/s]\n",
      "    Entre collision 341 et 342 : 1321.3361[m/s]\n",
      "    Entre collision 342 et 343 : 1321.3361[m/s]\n",
      "    Entre collision 343 et 344 : 2108.6806[m/s]\n",
      "    Entre collision 344 et 345 : 2246.7272[m/s]\n",
      "    Entre collision 345 et 346 : 880.1912[m/s]\n",
      "    Entre collision 346 et 347 : 1299.812[m/s]\n",
      "    Entre collision 347 et 348 : 1088.2816[m/s]\n",
      "    Entre collision 348 et 349 : 877.4044[m/s]\n",
      "    Entre collision 349 et 350 : 725.712[m/s]\n",
      "    Entre collision 350 et 351 : 725.712[m/s]\n",
      "    Entre collision 351 et 352 : 725.712[m/s]\n",
      "    Entre collision 352 et 353 : 725.712[m/s]\n",
      "    Entre collision 353 et 354 : 778.2134[m/s]\n",
      "    Entre collision 354 et 355 : 422.2121[m/s]\n",
      "    Entre collision 355 et 356 : 422.2121[m/s]\n",
      "    Entre collision 356 et 357 : 735.0932[m/s]\n",
      "    Entre collision 357 et 358 : 735.0932[m/s]\n",
      "    Entre collision 358 et 359 : 735.0932[m/s]\n",
      "    Entre collision 359 et 360 : 735.0932[m/s]\n",
      "    Entre collision 360 et 361 : 266.51[m/s]\n",
      "La vitesse moyenne de la particule est de 933.9903494314519 m/s\n"
     ]
    }
   ],
   "source": [
    "vitesseEntreCollisionsList = []\n",
    "for ij in followParticuleList:\n",
    "    vitesseEntreCollisionsList.append(np.sqrt(ij[0]**2 + ij[1]**2 + ij[2]**2)/ij[3])\n",
    "\n",
    "#Section suivante seulement pour debugging\n",
    "print(f\"Les vitesses entre chaque collisions sont les suivantes:\")\n",
    "increment = 0\n",
    "for v in vitesseEntreCollisionsList:\n",
    "    print(f\"    Entre collision {increment} et {increment + 1} : {round(v, 4)}[m/s]\")\n",
    "    increment += 1\n",
    "\n",
    "#Note: il serait possible de simplement calculer v_moy = l_moy / t_moy, mais l'approche qui suit est plus rigoureuse\n",
    "vitessePondered = 0\n",
    "for i in range(0, len(followParticuleList)):\n",
    "    vitessePondered += vitesseEntreCollisionsList[i]*followParticuleList[i][3]\n",
    "vitessePondered = vitessePondered/t_tot\n",
    "\n",
    "print(f\"La vitesse moyenne de la particule est de {vitessePondered} m/s\")"
   ]
  },
  {
   "cell_type": "markdown",
   "metadata": {
    "nteract": {
     "transient": {
      "deleting": false
     }
    }
   },
   "source": [
    "**VI.** _(5 points)_ &mdash; Pour cette même liste de vitesses, comparez les distributions de la norme $||\\vec{v}||$, du carré $v^2$ et d’une de ses composantes $v_x^2$ en étalonnant l’abscisse pour contraster les histogrammes avec une échelle appropriée. Indiquez sur ce graphique la moyenne, le mode, la médiane et la moyenne quadratique des distributions."
   ]
  },
  {
   "cell_type": "code",
   "execution_count": 13,
   "metadata": {
    "nteract": {
     "transient": {
      "deleting": false
     }
    }
   },
   "outputs": [
    {
     "data": {
      "image/png": "[encoded data removed]",
      "text/plain": [
       "<Figure size 1000x600 with 3 Axes>"
      ]
     },
     "metadata": {},
     "output_type": "display_data"
    }
   ],
   "source": [
    "import numpy as np\n",
    "import matplotlib.pyplot as plt\n",
    "from scipy import stats\n",
    "\n",
    "carres_x = []\n",
    "carres_vitesse = []\n",
    "normes_vitesse = []\n",
    "\n",
    "for ij in followParticuleList:\n",
    "    dt = ij[3]\n",
    "    dx = ij[0]\n",
    "    dy = ij[1]\n",
    "    dz = ij[2]\n",
    "    carre_x = dx**2/dt\n",
    "    carre_vitesse = (dx**2 + dy**2 + dz**2)/dt\n",
    "    norme_vitesse = np.sqrt(carre_vitesse)\n",
    "\n",
    "    carres_x.append(carre_x)\n",
    "    carres_vitesse.append(carre_vitesse)\n",
    "    normes_vitesse.append(norme_vitesse)\n",
    "\n",
    "carres_x = np.array(carres_x)\n",
    "carres_vitesse = np.array(carres_vitesse)\n",
    "normes_vitesse = np.array(normes_vitesse)\n",
    "\n",
    "# Calcul des statistiques\n",
    "stats_dict = {}\n",
    "labels = [\"$v_x^2$\", \"$v^2$\", \"$||v||$\"]\n",
    "data_list = [carres_x, carres_vitesse, normes_vitesse]\n",
    "colors = ['blue', 'orange', 'green']\n",
    "\n",
    "for label, data in zip(labels, data_list):\n",
    "    mean = np.mean(data)\n",
    "    median = np.median(data)\n",
    "    mode = stats.mode(data, keepdims=True)[0][0]  # Extraction de la valeur du mode\n",
    "    rms = np.sqrt(np.mean(data**2))  # Moyenne quadratique\n",
    "    stats_dict[label] = (mean, median, mode, rms)\n",
    "\n",
    "# Création du graphique avec plusieurs axes X\n",
    "fig, ax1 = plt.subplots(figsize=(10, 6))\n",
    "ax2 = ax1.twiny()\n",
    "ax3 = ax1.twiny()\n",
    "ax3.spines['top'].set_position(('outward', 50))  # Décalage du troisième axe X\n",
    "\n",
    "axes = [ax1, ax2, ax3]\n",
    "\n",
    "for ax_x, data, label, color in zip(axes, data_list, labels, colors):\n",
    "    ax_x.hist(data, bins=60, alpha=0.5, color=color, edgecolor='black', label=f\"Distribution de {label}\")\n",
    "    mean, median, mode, rms = stats_dict[label]\n",
    "    \n",
    "    # Ajout des lignes verticales pour les statistiques\n",
    "    ax_x.axvline(mean, color=color, linestyle='--', label=f\"Moyenne {label}: {mean:.2f}\")\n",
    "    ax_x.axvline(median, color=color, linestyle='-', label=f\"Médiane {label}: {median:.2f}\")\n",
    "    ax_x.axvline(mode, color=color, linestyle='-.', label=f\"Mode {label}: {mode:.2f}\")\n",
    "    ax_x.axvline(rms, color=color, linestyle=':', label=f\"Moyenne quadratique {label}: {rms:.2f}\")\n",
    "    \n",
    "    ax_x.set_xlabel(f\"{label}\", color=color)\n",
    "    ax_x.tick_params(axis='x', colors=color)\n",
    "\n",
    "ax1.set_ylabel(\"Fréquence\")\n",
    "fig.suptitle(\"Comparaison des distributions des différentes vitesses\")\n",
    "fig.legend(loc='upper right', bbox_to_anchor=(1.3, 1))\n",
    "fig.tight_layout()\n",
    "plt.show()\n",
    "\n",
    "\n"
   ]
  },
  {
   "cell_type": "markdown",
   "metadata": {},
   "source": [
    "**Bonus.** _(4 points)_ &mdash; Montrez que \n",
    "- (a) le théorème central limite est satisfait par une des distributions de vitesse du numéro précédent,\n",
    "- (b) le système simulé est ergodique."
   ]
  },
  {
   "cell_type": "code",
   "execution_count": 15,
   "metadata": {
    "nteract": {
     "transient": {
      "deleting": false
     }
    }
   },
   "outputs": [
    {
     "data": {
      "image/png": "[encoded data removed]",
      "text/plain": [
       "<Figure size 800x500 with 1 Axes>"
      ]
     },
     "metadata": {},
     "output_type": "display_data"
    }
   ],
   "source": [
    "### (a)\n",
    "sample_means = [np.mean(np.random.choice(normes_vitesse, size=50, replace=True)) for _ in range(1000)]\n",
    "plt.figure(figsize=(8, 5))\n",
    "plt.hist(sample_means, bins=30, density=True, alpha=0.6, color='purple', edgecolor='black')\n",
    "mu, sigma = np.mean(sample_means), np.std(sample_means)\n",
    "x = np.linspace(min(sample_means), max(sample_means), 100)\n",
    "plt.plot(x, stats.norm.pdf(x, mu, sigma), 'r-', lw=2, label=f\"N(μ={mu:.2f}, σ={sigma:.2f})\")\n",
    "plt.title(\"Vérification du Théorème Central Limite\")\n",
    "plt.xlabel(\"Moyennes des échantillons\")\n",
    "plt.ylabel(\"Densité de probabilité\")\n",
    "plt.legend()\n",
    "plt.show()\n",
    "\n",
    "#"
   ]
  },
  {
   "cell_type": "code",
   "execution_count": null,
   "metadata": {},
   "outputs": [],
   "source": [
    "## #(b) à faire"
   ]
  },
  {
   "cell_type": "markdown",
   "metadata": {
    "nteract": {
     "transient": {
      "deleting": false
     }
    }
   },
   "source": [
    "# Médiagraphie #\n",
    " - La simulation utilise la librairie <a href=\"https://vpython.org\">VPython</a> conçue pour faciliter la visualisation de physique en 3D, avec les instructions d’installation <a href=\"https://vpython.org/presentation2018/install.html\">ici</a> et la documentation <a href=\"https://www.glowscript.org/docs/VPythonDocs/index.html\">ici</a>. Le code adapte en 2D et commente en détail l’exemple <a href=\"https://www.glowscript.org/#/user/GlowScriptDemos/folder/Examples/program/HardSphereGas-VPython\">HardSphereGas-VPython</a> du site interactif <a href=\"https://www.glowscript.org\">GlowScript</a> pour programmer des animations avec VPython directement en ligne."
   ]
  }
 ],
 "metadata": {
  "kernelspec": {
   "display_name": "Python 3 (ipykernel)",
   "language": "python",
   "name": "python3"
  },
  "language_info": {
   "codemirror_mode": {
    "name": "ipython",
    "version": 3
   },
   "file_extension": ".py",
   "mimetype": "text/x-python",
   "name": "python",
   "nbconvert_exporter": "python",
   "pygments_lexer": "ipython3",
   "version": "3.12.9"
  }
 },
 "nbformat": 4,
 "nbformat_minor": 4
}
